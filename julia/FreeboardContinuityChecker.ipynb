{
 "cells": [
  {
   "cell_type": "code",
   "execution_count": 4,
   "metadata": {
    "collapsed": false
   },
   "outputs": [
    {
     "name": "stderr",
     "output_type": "stream",
     "text": [
      "WARNING: Method definition exportcsvfile(Any) in module Main at C:\\Users\\slawler\\Repos\\NYSFSMA-2017\\Julia_Demo\\RAS_functions.jl:15 overwritten at C:\\Users\\slawler\\Repos\\NYSFSMA-2017\\Julia_Demo\\RAS_functions.jl:15.\n",
      "INFO: Precompiling module DataFrames.\n",
      "INFO: Precompiling module PyPlot.\n"
     ]
    },
    {
     "data": {
      "text/plain": [
       "\"NewData\""
      ]
     },
     "execution_count": 4,
     "metadata": {},
     "output_type": "execute_result"
    }
   ],
   "source": [
    "#from iterator_length.jl\n",
    "#\n",
    "# Description: Function to extract data from a csv File and use a dictionary to calculate sum (see RAS_Dict.jl). \n",
    "#              See iterator_length.jl to run the code for multiple csv files\n",
    "#\n",
    "# amousam@dewberry.com\n",
    "\n",
    "#---Load Files Needed\n",
    "\n",
    "#---Load Packages\n",
    "include(\"RAS_Dict.jl\")\n",
    "include(\"RAS_functions.jl\") \n",
    "include(\"plotfile.jl\")\n",
    "#---Declare Variables\n",
    "\n",
    "prefix = \"length_\"\n",
    "csv_dir = \"RawData\"\n",
    "output_dir = \"NewData\""
   ]
  },
  {
   "cell_type": "code",
   "execution_count": 5,
   "metadata": {
    "collapsed": false
   },
   "outputs": [
    {
     "name": "stdout",
     "output_type": "stream",
     "text": [
      "Bowie.csv ,levee length = \t1487.7674250000014\n",
      "Clotilda.csv ,levee length = \t8694.039999999992\n",
      "Fantastic_Acres_Coastal.csv ,levee length = \t5088.984784999999\n",
      "Homeplace.csv ,levee length = \t6255.6268770000015\n",
      "LaButte.csv ,levee length = \t2862.4059560000005\n",
      "Martinez_Rond_Pom_Pon.csv ,levee length = \t6683.643870999995\n",
      "Thoroughbred_Supercharge.csv ,levee length = \t3010.8734489999997\n",
      "T_Bois.csv ,levee length = \t7790.10140999999\n",
      "Zeller_Larousse.csv ,levee length = \t7040.551338000003\n"
     ]
    }
   ],
   "source": [
    "#---Run Iterators & Calculate Length\n",
    "\n",
    "for i in filter!(x -> endswith(x, \"csv\"), readdir(csv_dir))\n",
    "    csv = abspath(csv_dir,i)\n",
    "    f = calclen(csv);g = dict[i]       # run function for each csv file           \n",
    "    newname = prefix*i                 #create new name based on each csv file\n",
    "    X = f[f[:ELEVATION].<g,:]          #select the rows with elevation less than the threshold as defined in the dictionary\n",
    "    K = sum(X[:LENGTH])                #sum the length for rows with elevation less than the threshold\n",
    "    println(i,\" ,levee length = \\t\", K)                        #print results\n",
    "end"
   ]
  },
  {
   "cell_type": "code",
   "execution_count": 6,
   "metadata": {
    "collapsed": false
   },
   "outputs": [
    {
     "name": "stdout",
     "output_type": "stream",
     "text": [
      "Bowie.csv, mean & st dev = (4.732837475207095,0.7502155096920252)\n",
      "Clotilda.csv, mean & st dev = (5.471034836065574,2.417302497822295)\n",
      "Fantastic_Acres_Coastal.csv, mean & st dev = (7.03871834448065,3.895032015841883)\n",
      "Homeplace.csv, mean & st dev = (4.962341178921059,1.758778823995807)\n",
      "LaButte.csv, mean & st dev = (4.047339377217186,0.9108945070180337)\n",
      "Martinez_Rond_Pom_Pon.csv, mean & st dev = (3.4477248124230098,0.6754503369286708)\n",
      "Thoroughbred_Supercharge.csv, mean & st dev = (7.4785935338776595,2.6792274316694216)\n",
      "T_Bois.csv, mean & st dev = (5.267110281923714,1.923328653302276)\n",
      "Zeller_Larousse.csv, mean & st dev = (3.4047106973758128,0.5746383241009516)\n"
     ]
    }
   ],
   "source": [
    "#-----------------------------------------------------#\n",
    "#---Export to CSV\n",
    "#-----------------------------------------------------#\n",
    "\n",
    "for i in filter!(x -> endswith(x, \"csv\"), readdir(csv_dir))\n",
    "    csv = abspath(csv_dir,i)\n",
    "    f = exportcsvfile(csv)                   # run function for each csv file \n",
    "    newname = abspath(output_dir,\"new_\"*i)   #create new name based on each csv file \n",
    "    println(i, \", mean & st dev = \" ,mean_and_std(f[:Elevation]))     #print the mean and std deviation for elevation column \n",
    "    writetable(newname, f)                   #alternatively the information from the function can be written as a new csv file \n",
    "end"
   ]
  },
  {
   "cell_type": "code",
   "execution_count": 7,
   "metadata": {
    "collapsed": false
   },
   "outputs": [
    {
     "name": "stdout",
     "output_type": "stream",
     "text": [
      "PNG Created for Bowie.csv\n",
      "PNG Created for Clotilda.csv\n",
      "PNG Created for Fantastic_Acres_Coastal.csv\n",
      "PNG Created for Homeplace.csv\n",
      "PNG Created for LaButte.csv\n",
      "PNG Created for Martinez_Rond_Pom_Pon.csv\n",
      "PNG Created for Thoroughbred_Supercharge.csv\n",
      "PNG Created for T_Bois.csv\n",
      "PNG Created for Zeller_Larousse.csv\n"
     ]
    }
   ],
   "source": [
    "for i in filter!(x -> endswith(x, \"csv\"), readdir(csv_dir))\n",
    "    csv = abspath(csv_dir,i)\n",
    "    println(\"PNG Created for \", i)\n",
    "    plotfile(csv)  # run function for each csv file \n",
    "end\n"
   ]
  }
 ],
 "metadata": {
  "anaconda-cloud": {},
  "kernelspec": {
   "display_name": "Julia 0.5.0",
   "language": "julia",
   "name": "julia-0.5"
  },
  "language_info": {
   "file_extension": ".jl",
   "mimetype": "application/julia",
   "name": "julia",
   "version": "0.5.0"
  }
 },
 "nbformat": 4,
 "nbformat_minor": 1
}
