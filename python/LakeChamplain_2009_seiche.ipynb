{
 "cells": [
  {
   "cell_type": "markdown",
   "metadata": {},
   "source": [
    "# Lake Champlain"
   ]
  },
  {
   "cell_type": "code",
   "execution_count": 1,
   "metadata": {
    "collapsed": false
   },
   "outputs": [],
   "source": [
    "#--Import Python Libraries\n",
    "#get_ipython().magic('matplotlib notebook')\n",
    "%matplotlib inline  \n",
    "import pandas as pd\n",
    "import numpy as np\n",
    "from DataGrabber import *"
   ]
  },
  {
   "cell_type": "code",
   "execution_count": 2,
   "metadata": {
    "collapsed": false,
    "scrolled": true
   },
   "outputs": [
    {
     "name": "stdout",
     "output_type": "stream",
     "text": [
      "\n",
      "CLICK HERE FOR USGS GAGES: \n",
      " https://waterdata.usgs.gov/nwis/uv?referred_module=sw&state_cd=ny&site_tp_cd=OC&site_tp_cd=OC-CO&site_tp_cd=ES&site_tp_cd=LK&site_tp_cd=ST&site_tp_cd=ST-CA&site_tp_cd=ST-DCH&site_tp_cd=ST-TS&format=station_list\n"
     ]
    }
   ],
   "source": [
    "#--Enter State Code\n",
    "state = 'ny'\n",
    "\n",
    "#---------RUN----------#\n",
    "gage_list1 = GotoUSGS(state)\n",
    "print(\"\\nCLICK HERE FOR USGS GAGES: \\n\", gage_list1)\n"
   ]
  },
  {
   "cell_type": "code",
   "execution_count": 27,
   "metadata": {
    "collapsed": false
   },
   "outputs": [],
   "source": [
    "W = '04279085' # WHITEHALL\n",
    "R = '04295000' # RICHELIEU\n",
    "\n",
    "start, stop = '2009-10-30','2009-11-01' \n",
    "Wdata = 'https://nwis.waterdata.usgs.gov/usa/nwis/uv/?cb_62614=on&format=rdb&site_no={}&period=&begin_date={}&end_date={}'.format(W, start, stop)\n",
    "Rdata = 'https://nwis.waterdata.usgs.gov/usa/nwis/uv/?cb_62614=on&format=rdb&site_no={}&period=&begin_date={}&end_date={}'.format(R, start, stop)\n"
   ]
  },
  {
   "cell_type": "markdown",
   "metadata": {},
   "source": [
    "## Whitehall\n"
   ]
  },
  {
   "cell_type": "code",
   "execution_count": 28,
   "metadata": {
    "collapsed": false
   },
   "outputs": [
    {
     "data": {
      "text/html": [
       "<div>\n",
       "<table border=\"1\" class=\"dataframe\">\n",
       "  <thead>\n",
       "    <tr style=\"text-align: right;\">\n",
       "      <th></th>\n",
       "      <th>agency_cd</th>\n",
       "      <th>site_no</th>\n",
       "      <th>datetime</th>\n",
       "      <th>tz_cd</th>\n",
       "      <th>Stage</th>\n",
       "      <th>107877_62614_cd</th>\n",
       "    </tr>\n",
       "  </thead>\n",
       "  <tbody>\n",
       "    <tr>\n",
       "      <th>1</th>\n",
       "      <td>USGS</td>\n",
       "      <td>04279085</td>\n",
       "      <td>2009-10-30 00:00:00</td>\n",
       "      <td>EST</td>\n",
       "      <td>95.56</td>\n",
       "      <td>A</td>\n",
       "    </tr>\n",
       "    <tr>\n",
       "      <th>2</th>\n",
       "      <td>USGS</td>\n",
       "      <td>04279085</td>\n",
       "      <td>2009-10-30 00:15:00</td>\n",
       "      <td>EST</td>\n",
       "      <td>95.56</td>\n",
       "      <td>A</td>\n",
       "    </tr>\n",
       "  </tbody>\n",
       "</table>\n",
       "</div>"
      ],
      "text/plain": [
       "  agency_cd   site_no            datetime tz_cd  Stage 107877_62614_cd\n",
       "1      USGS  04279085 2009-10-30 00:00:00   EST  95.56               A\n",
       "2      USGS  04279085 2009-10-30 00:15:00   EST  95.56               A"
      ]
     },
     "execution_count": 28,
     "metadata": {},
     "output_type": "execute_result"
    }
   ],
   "source": [
    "dfw = pd.read_csv(Wdata, skiprows=26, sep='\\t') \n",
    "dfw.rename(columns = {'107877_62614':'Stage'}, inplace=True)\n",
    "dfw.drop(0, axis=0, inplace=True)\n",
    "dfw['datetime'] = pd.to_datetime(dfw['datetime'], format= '%Y-%m-%d')\n",
    "dfw['Stage'] = pd.to_numeric(dfw['Stage'])\n",
    "dfw.head(2)\n"
   ]
  },
  {
   "cell_type": "markdown",
   "metadata": {},
   "source": [
    "## Richelieu"
   ]
  },
  {
   "cell_type": "code",
   "execution_count": 30,
   "metadata": {
    "collapsed": false
   },
   "outputs": [
    {
     "data": {
      "text/html": [
       "<div>\n",
       "<table border=\"1\" class=\"dataframe\">\n",
       "  <thead>\n",
       "    <tr style=\"text-align: right;\">\n",
       "      <th></th>\n",
       "      <th>agency_cd</th>\n",
       "      <th>site_no</th>\n",
       "      <th>datetime</th>\n",
       "      <th>tz_cd</th>\n",
       "      <th>Stage</th>\n",
       "      <th>107895_62614_cd</th>\n",
       "    </tr>\n",
       "  </thead>\n",
       "  <tbody>\n",
       "    <tr>\n",
       "      <th>1</th>\n",
       "      <td>USGS</td>\n",
       "      <td>04295000</td>\n",
       "      <td>2009-10-30 00:00:00</td>\n",
       "      <td>EST</td>\n",
       "      <td>95.55</td>\n",
       "      <td>A</td>\n",
       "    </tr>\n",
       "    <tr>\n",
       "      <th>2</th>\n",
       "      <td>USGS</td>\n",
       "      <td>04295000</td>\n",
       "      <td>2009-10-30 00:15:00</td>\n",
       "      <td>EST</td>\n",
       "      <td>95.56</td>\n",
       "      <td>A</td>\n",
       "    </tr>\n",
       "  </tbody>\n",
       "</table>\n",
       "</div>"
      ],
      "text/plain": [
       "  agency_cd   site_no            datetime tz_cd  Stage 107895_62614_cd\n",
       "1      USGS  04295000 2009-10-30 00:00:00   EST  95.55               A\n",
       "2      USGS  04295000 2009-10-30 00:15:00   EST  95.56               A"
      ]
     },
     "execution_count": 30,
     "metadata": {},
     "output_type": "execute_result"
    }
   ],
   "source": [
    "dfr = pd.read_csv(Rdata, skiprows=26, sep='\\t') \n",
    "dfr.rename(columns = {'107895_62614':'Stage'}, inplace=True)\n",
    "dfr.drop(0, axis=0, inplace=True)\n",
    "dfr['datetime'] = pd.to_datetime(dfr['datetime'], format= '%Y-%m-%d')\n",
    "dfr['Stage'] = pd.to_numeric(dfr['Stage'])\n",
    "dfr.head(2)"
   ]
  },
  {
   "cell_type": "code",
   "execution_count": 32,
   "metadata": {
    "collapsed": false
   },
   "outputs": [],
   "source": [
    "def plotter(dfw, dfr):\n",
    "    x = dfw.datetime\n",
    "    y = dfw.Stage\n",
    "\n",
    "    x1 = dfr.datetime\n",
    "    y1 = dfr.Stage\n",
    "\n",
    "    plt.plot(x,y)\n",
    "    plt.plot(x1,y1)\n",
    "    plt.grid()\n",
    "    plt.legend(['Whitehall (US)', 'Richeleiu (DS)'])"
   ]
  },
  {
   "cell_type": "code",
   "execution_count": 37,
   "metadata": {
    "collapsed": false,
    "scrolled": true
   },
   "outputs": [
    {
     "name": "stdout",
     "output_type": "stream",
     "text": [
      "Seiche on Lake Champlain, October 2009\n"
     ]
    },
    {
     "data": {
      "image/png": "[encoded data removed]",
      "text/plain": [
       "<matplotlib.figure.Figure at 0x119061160>"
      ]
     },
     "metadata": {},
     "output_type": "display_data"
    }
   ],
   "source": [
    "print('Seiche on Lake Champlain, October 2009')\n",
    "plotter(dfw, dfr)\n"
   ]
  }
 ],
 "metadata": {
  "anaconda-cloud": {},
  "kernelspec": {
   "display_name": "Python [default]",
   "language": "python",
   "name": "python3"
  },
  "language_info": {
   "codemirror_mode": {
    "name": "ipython",
    "version": 3
   },
   "file_extension": ".py",
   "mimetype": "text/x-python",
   "name": "python",
   "nbconvert_exporter": "python",
   "pygments_lexer": "ipython3",
   "version": "3.5.2"
  }
 },
 "nbformat": 4,
 "nbformat_minor": 1
}
