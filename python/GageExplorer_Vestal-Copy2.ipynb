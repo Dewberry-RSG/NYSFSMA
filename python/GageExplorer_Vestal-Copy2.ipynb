{
 "cells": [
  {
   "cell_type": "markdown",
   "metadata": {},
   "source": [
    "# USGS Gage Explorer\n",
    "\n",
    "\n",
    "#### [National Water Information System: Help System](https://help.waterdata.usgs.gov/) "
   ]
  },
  {
   "cell_type": "code",
   "execution_count": 1,
   "metadata": {
    "collapsed": false
   },
   "outputs": [],
   "source": [
    "#--Import Python Libraries\n",
    "get_ipython().magic('matplotlib notebook')\n",
    "import pandas as pd\n",
    "import numpy as np\n",
    "from scipy.integrate import trapz, simps\n",
    "from DataGrabber import *"
   ]
  },
  {
   "cell_type": "markdown",
   "metadata": {},
   "source": [
    "## Identify Available Gages"
   ]
  },
  {
   "cell_type": "code",
   "execution_count": 2,
   "metadata": {
    "collapsed": false
   },
   "outputs": [
    {
     "name": "stdout",
     "output_type": "stream",
     "text": [
      "\n",
      "CLICK HERE FOR USGS GAGES: \n",
      " https://waterdata.usgs.gov/nwis/uv?referred_module=sw&state_cd=ny&site_tp_cd=OC&site_tp_cd=OC-CO&site_tp_cd=ES&site_tp_cd=LK&site_tp_cd=ST&site_tp_cd=ST-CA&site_tp_cd=ST-DCH&site_tp_cd=ST-TS&format=station_list\n",
      "\n",
      "CLICK HERE FOR MAP: \n",
      " https://maps.waterdata.usgs.gov/mapper/index.html\n"
     ]
    }
   ],
   "source": [
    "#--Enter State Code\n",
    "state = 'ny'\n",
    "GotoUSGS(state)"
   ]
  },
  {
   "cell_type": "markdown",
   "metadata": {},
   "source": [
    "##### Copy Gage ID's From USGS Webpage"
   ]
  },
  {
   "cell_type": "code",
   "execution_count": 3,
   "metadata": {
    "collapsed": false
   },
   "outputs": [],
   "source": [
    "#--Enter Selected Gages & Gage Name\n",
    "Vestal     = '01513500' \n",
    "gage_name = 'Vestal'"
   ]
  },
  {
   "cell_type": "code",
   "execution_count": null,
   "metadata": {
    "collapsed": false
   },
   "outputs": [],
   "source": [
    "#--Grab Flow Table\n",
    "\n",
    "    df_q = Get_USGS_Instant(eval(gage_name), flow, start, stop)\n",
    "    df_q.plot(grid = True)\n",
    "except:\n",
    "    print('No Flow Data Available')\n"
   ]
  },
  {
   "cell_type": "code",
   "execution_count": null,
   "metadata": {
    "collapsed": false
   },
   "outputs": [],
   "source": [
    "#--Grab Stage Table\n",
    "try:\n",
    "    df_s = Get_USGS_Instant(eval(gage_name), stage, start, stop)\n",
    "    df_s.plot(grid = True)\n",
    "except:\n",
    "    print('No Stage Data Available')\n"
   ]
  },
  {
   "cell_type": "code",
   "execution_count": null,
   "metadata": {
    "collapsed": false
   },
   "outputs": [],
   "source": [
    "#--Grab Daily \n",
    "try:\n",
    "    daily_flow = Get_USGS_Daily(eval(gage_name))\n",
    "    ax1 = plt.subplot(111)\n",
    "    plt.plot(daily_flow.index, np.array(daily_flow))\n",
    "    plt.title(gage_name)\n",
    "    plt.grid()\n",
    "except:\n",
    "    print('No Daily Data Available')\n"
   ]
  },
  {
   "cell_type": "markdown",
   "metadata": {},
   "source": [
    "## Now lets look at the Peak Flows"
   ]
  },
  {
   "cell_type": "code",
   "execution_count": null,
   "metadata": {
    "collapsed": false
   },
   "outputs": [],
   "source": [
    "#--Get Peak Flows for Gages of interest\n",
    "df_p = Get_Peaks(eval(gage_name))"
   ]
  },
  {
   "cell_type": "code",
   "execution_count": null,
   "metadata": {
    "collapsed": false
   },
   "outputs": [],
   "source": [
    "#--Plot Peaks for df1\n",
    "ax1 = plt.subplot(111)\n",
    "plt.scatter(df_p.index , df_p, color = 'b', marker = 'o', facecolors='none', s=30)\n",
    "plt.title(gage_name)\n",
    "plt.grid()\n"
   ]
  },
  {
   "cell_type": "code",
   "execution_count": null,
   "metadata": {
    "collapsed": false
   },
   "outputs": [],
   "source": [
    "df_p\n",
    "big_storms = df_p.sort_values(ascending=False)\n",
    "big_storms.head(7)"
   ]
  },
  {
   "cell_type": "code",
   "execution_count": null,
   "metadata": {
    "collapsed": false
   },
   "outputs": [],
   "source": [
    "# Hydrographs available for top storms: 0, 1, 3, 6\n",
    "peak = big_storms.index[0]\n",
    "\n",
    "start = pd.Timestamp(peak) - pd.Timedelta(days = 18)\n",
    "stop = pd.Timestamp(peak) + pd.Timedelta(days = 15)\n",
    "\n",
    "a = df_q.ix[start:stop]\n",
    "b = daily_flow[start:stop]\n",
    "df = pd.merge(a , b, how='outer', left_index=True, right_index=True)\n",
    "df.rename(columns = {'StreamFlow_x':'Instantaneous', 'StreamFlow_y':'Daily_Mean'}, inplace=True)\n",
    "df['Daily_Mean'] = df['Daily_Mean'].interpolate()\n",
    "df.plot()"
   ]
  },
  {
   "cell_type": "code",
   "execution_count": null,
   "metadata": {
    "collapsed": false
   },
   "outputs": [],
   "source": [
    "# Hydrographs available for top storms: 0, 1, 3, 6\n",
    "peak = big_storms.index[0]\n",
    "\n",
    "start = pd.Timestamp(peak) - pd.Timedelta(days = 3)\n",
    "stop = pd.Timestamp(peak) + pd.Timedelta(days = 8)\n",
    "\n",
    "a = df_q.ix[start:stop]\n",
    "b = daily_flow[start:stop]\n",
    "df = pd.merge(a , b, how='outer', left_index=True, right_index=True)\n",
    "df.rename(columns = {'StreamFlow_x':'Instantaneous', 'StreamFlow_y':'Daily_Mean'}, inplace=True)\n",
    "df['Daily_Mean'] = df['Daily_Mean'].interpolate()\n",
    "df.plot(grid='on')\n",
    "\n",
    "inst_volume, daily_volume = simps(np.array(df['Instantaneous'])), simps(np.array(df['Daily_Mean']))\n",
    "print('Volume calculated using Instantaneous Observations = {}'.format(round(inst_volume,0)))\n",
    "print('Volume from Daily Mean Observations = {}'.format(round(daily_volume,0)))\n",
    "print('\\nUsing Daily means yields = {} more Cubic Feet of Water'.format(round(daily_volume-inst_volume),0))\n",
    "print('(Daily means add ~ {}% more flow)'.format(100*(daily_volume-inst_volume)/inst_volume))\n"
   ]
  },
  {
   "cell_type": "code",
   "execution_count": null,
   "metadata": {
    "collapsed": false
   },
   "outputs": [],
   "source": [
    "# Trapezoidal\n",
    "inst_volume, daily_volume = trapz(np.array(df['Instantaneous'])), trapz(np.array(df['Daily_Mean']))\n",
    "print('Volume calculated using Instantaneous Observations = {}'.format(round(inst_volume,0)))\n",
    "print('Volume from Daily Mean Observations = {}'.format(round(daily_volume,0)))\n",
    "print('\\nUsing Daily means yields = {} more Cubic Feet of Water'.format(round(daily_volume-inst_volume),0))\n",
    "print('(Daily means add ~ {}% more flow)'.format(100*(daily_volume-inst_volume)/inst_volume))"
   ]
  },
  {
   "cell_type": "code",
   "execution_count": null,
   "metadata": {
    "collapsed": false
   },
   "outputs": [],
   "source": [
    "\n",
    "\n",
    "# Hydrographs available for top storms: 0, 1, 3, 6\n",
    "peak = big_storms.index[0]\n",
    "\n",
    "start = pd.Timestamp(peak) - pd.Timedelta(days = 13)\n",
    "stop = pd.Timestamp(peak) + pd.Timedelta(days = -4)\n",
    "\n",
    "a = df_q.ix[start:stop]\n",
    "b = daily_flow[start:stop]\n",
    "df = pd.merge(a , b, how='outer', left_index=True, right_index=True)\n",
    "df.rename(columns = {'StreamFlow_x':'Instantaneous', 'StreamFlow_y':'Daily_Mean'}, inplace=True)\n",
    "df['Daily_Mean'] = df['Daily_Mean'].interpolate()\n",
    "df.plot()"
   ]
  },
  {
   "cell_type": "code",
   "execution_count": null,
   "metadata": {
    "collapsed": false
   },
   "outputs": [],
   "source": []
  },
  {
   "cell_type": "code",
   "execution_count": null,
   "metadata": {
    "collapsed": false
   },
   "outputs": [],
   "source": [
    "# Hydrographs available for top storms: 0, 1, 3, 6\n",
    "peak = big_storms.index[1]\n",
    "\n",
    "start = pd.Timestamp(peak) - pd.Timedelta(days = 18)\n",
    "stop = pd.Timestamp(peak) + pd.Timedelta(days = 15)\n",
    "\n",
    "df = df_q.ix[start:stop]\n",
    "df.plot(grid='on')"
   ]
  },
  {
   "cell_type": "code",
   "execution_count": null,
   "metadata": {
    "collapsed": false
   },
   "outputs": [],
   "source": [
    "# Hydrographs available for top storms: 0, 1, 3, 6\n",
    "peak = big_storms.index[3]\n",
    "\n",
    "start = pd.Timestamp(peak) - pd.Timedelta(days = 18)\n",
    "stop = pd.Timestamp(peak) + pd.Timedelta(days = 15)\n",
    "\n",
    "df = df_q.ix[start:stop]\n",
    "df.plot(grid='on')"
   ]
  },
  {
   "cell_type": "code",
   "execution_count": null,
   "metadata": {
    "collapsed": false
   },
   "outputs": [],
   "source": [
    "# Hydrographs available for top storms: 0, 1, 3, 6\n",
    "peak = big_storms.index[4]\n",
    "\n",
    "start = pd.Timestamp(peak) - pd.Timedelta(days = 18)\n",
    "stop = pd.Timestamp(peak) + pd.Timedelta(days = 15)\n",
    "\n",
    "\n",
    "df2 = daily_flow[start:stop]\n",
    "df2.plot(color = 'red', grid = 'on')"
   ]
  },
  {
   "cell_type": "code",
   "execution_count": null,
   "metadata": {
    "collapsed": false
   },
   "outputs": [],
   "source": [
    "# Hydrographs available for top storms: 0, 1, 3, 6\n",
    "peak = big_storms.index[5]\n",
    "\n",
    "start = pd.Timestamp(peak) - pd.Timedelta(days = 18)\n",
    "stop = pd.Timestamp(peak) + pd.Timedelta(days = 15)\n",
    "\n",
    "\n",
    "df2 = daily_flow[start:stop]\n",
    "df2.plot(color = 'red', grid = 'on')"
   ]
  },
  {
   "cell_type": "markdown",
   "metadata": {},
   "source": [
    "###  Find Current 100yr Flow using PeakFlow"
   ]
  },
  {
   "cell_type": "code",
   "execution_count": null,
   "metadata": {
    "collapsed": false
   },
   "outputs": [],
   "source": [
    "#--Download PeakFQ data\n",
    "GetPKFQ(eval(gage_name))\n",
    "\n",
    "#--Stats:\n",
    "#skew_table = 'https://ny.water.usgs.gov/pubs/wri/wri004022/WRIR00-4022.pdf'\n",
    "#print(skew_table)"
   ]
  },
  {
   "cell_type": "markdown",
   "metadata": {},
   "source": [
    "#### What's Next: \n",
    "\n",
    "    3. Bring in HEC-RAS Return Periods\n",
    "    4. Add stretching for return period analysis\n",
    "    5. Add interpolating to compate daily vs instantaneous \n",
    "    6. Add wier flow converter and hydrogaph builder"
   ]
  }
 ],
 "metadata": {
  "anaconda-cloud": {},
  "kernelspec": {
   "display_name": "Python [default]",
   "language": "python",
   "name": "python3"
  },
  "language_info": {
   "codemirror_mode": {
    "name": "ipython",
    "version": 3
   },
   "file_extension": ".py",
   "mimetype": "text/x-python",
   "name": "python",
   "nbconvert_exporter": "python",
   "pygments_lexer": "ipython3",
   "version": "3.5.2"
  }
 },
 "nbformat": 4,
 "nbformat_minor": 0
}
