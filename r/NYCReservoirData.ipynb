{
 "cells": [
  {
   "cell_type": "markdown",
   "metadata": {},
   "source": [
    "# NYC Reservoir data\n",
    "    Scrapes the NYC water supply website for relevant data on reservoir levels and releases.\n",
    "    Doesn't store data, just gets latest values.\n",
    "    If NYC changes website format, this code will not work.\n",
    "    \n",
    "    #    Joel Plummer\n",
    "    #    Geospatial Analyst\n",
    "    #    Dewberry\n",
    "    #    8401 Arlington Boulevard\n",
    "    #    Fairfax, VA 22031\n",
    "    #    jcplummer@dewberry.com\n",
    "\n",
    "#### General method sources:\n",
    "    # https://www.r-bloggers.com/reading-html-pages-in-r-for-text-processing/\n",
    "    # http://zevross.com/blog/2015/05/19/scrape-website-data-with-the-new-r-package-rvest/"
   ]
  },
  {
   "cell_type": "code",
   "execution_count": 1,
   "metadata": {
    "collapsed": false
   },
   "outputs": [
    {
     "name": "stderr",
     "output_type": "stream",
     "text": [
      "Loading required package: xml2\n",
      "\n",
      "Attaching package: ‘dplyr’\n",
      "\n",
      "The following objects are masked from ‘package:stats’:\n",
      "\n",
      "    filter, lag\n",
      "\n",
      "The following objects are masked from ‘package:base’:\n",
      "\n",
      "    intersect, setdiff, setequal, union\n",
      "\n"
     ]
    }
   ],
   "source": [
    "library(rvest)\n",
    "library(dplyr)"
   ]
  },
  {
   "cell_type": "code",
   "execution_count": 3,
   "metadata": {
    "collapsed": false
   },
   "outputs": [
    {
     "ename": "ERROR",
     "evalue": "Error in do.call(method, list(parsed_selector)): could not find function \"xpath_element\"\n",
     "output_type": "error",
     "traceback": [
      "Error in do.call(method, list(parsed_selector)): could not find function \"xpath_element\"\nTraceback:\n",
      "1. inpath %>% read_html() %>% html_nodes(selector_names) %>% html_text()",
      "2. withVisible(eval(quote(`_fseq`(`_lhs`)), env, env))",
      "3. eval(quote(`_fseq`(`_lhs`)), env, env)",
      "4. eval(expr, envir, enclos)",
      "5. `_fseq`(`_lhs`)",
      "6. freduce(value, `_function_list`)",
      "7. function_list[[i]](value)",
      "8. html_nodes(., selector_names)",
      "9. html_nodes.default(., selector_names)",
      "10. xml2::xml_find_all(x, make_selector(css, xpath))",
      "11. xml_find_all.xml_node(x, make_selector(css, xpath))",
      "12. xpath_search(x$node, x$doc, xpath = xpath, nsMap = ns, num_results = Inf)",
      "13. make_selector(css, xpath)",
      "14. selectr::css_to_xpath(css, prefix = \".//\")",
      "15. tran$css_to_xpath(sel, pref)",
      "16. selector_to_xpath(selectors, prefix)",
      "17. .self$xpath(tree)",
      "18. do.call(method, list(parsed_selector))"
     ]
    }
   ],
   "source": [
    "# grab NYC reservoir water level webpage\n",
    "inpath<-\"http://www.nyc.gov/html/dep/html/drinking_water/maplevels_wide.shtml\"\n",
    "selector_names<-c(\"p\")\n",
    "\n",
    "# parse doc for paragraphs and convert to text\n",
    "doc.text <- inpath %>% read_html() %>% html_nodes(selector_names) %>% html_text()\n",
    "lvltab<-NULL\n",
    "\n",
    "# get date from top paragraph\n",
    "date<-doc.text[1]\n",
    "\n",
    "# parse for colon which identifies data\n",
    "s<-gregexpr(\":\",doc.text)\n",
    "\n",
    "# parse through each paragrah and grab the data\n",
    "for (i in 1:length(s)){\n",
    "    if (!s[[i]][1]==-1){\n",
    "        s2<-gregexpr(\"%\",doc.text[i])\n",
    "        name<-substr(doc.text[i],1,s[[i]][1])\n",
    "        name<-sub(\" Capacity:\",\"\",name)\n",
    "        cap<-substr(doc.text[i],(s[[i]][1]+2),s2[[1]][1]-1)\n",
    "        cur<-substr(doc.text[i],s[[i]][2]+2,nchar(doc.text[i]))    \n",
    "        lvltab<-rbind(lvltab,c(date,name,cap,cur))\n",
    "    }\n",
    "}"
   ]
  },
  {
   "cell_type": "code",
   "execution_count": 4,
   "metadata": {
    "collapsed": false
   },
   "outputs": [
    {
     "ename": "ERROR",
     "evalue": "Error in data.frame(lvltab): object 'lvltab' not found\n",
     "output_type": "error",
     "traceback": [
      "Error in data.frame(lvltab): object 'lvltab' not found\nTraceback:\n",
      "1. data.frame(lvltab)"
     ]
    }
   ],
   "source": [
    "# format table\n",
    "lvltab<-data.frame(lvltab)\n",
    "lvltab[,3]<-sapply(lvltab[,3],function(x) gsub(\"B gallons\",\"\",x))\n",
    "curcaps<-apply(lvltab[,c(3,4)],1,function(x) round(as.numeric(x[1])*(as.numeric(x[2])/100),1))\n",
    "lvltab<-cbind(lvltab,curcaps)\n",
    "colnames(lvltab)<-c(\"Date\",\"Name\",\"Cap.(B gals)\",\"Level(Pct)\",\"Level(B gals)\")\n",
    "lvltab[,3]<-as.numeric(as.character(lvltab[,3]))\n",
    "lvltab[,4]<-as.numeric(as.character(lvltab[,4]))\n",
    "\n",
    "# calc attributes\n",
    "nycTcap<-sum(as.numeric(lvltab[,3]),na.rm=TRUE)\n",
    "nycCcap<-sum(as.numeric(lvltab[,5]),na.rm=TRUE)\n",
    "nycCcapPCT<-round((nycCcap/nycTcap)*100,1)\n",
    "\n",
    "delres<-c(\"Cannonsville Reservoir\",\"Neversink Reservoir\",\"Pepacton Reservoir\")\n",
    "deltab<-filter(lvltab, Name %in% delres)\n",
    "delTcap<-sum(as.numeric(deltab[,3]),na.rm=TRUE)\n",
    "delCcap<-sum(as.numeric(deltab[,5]),na.rm=TRUE)\n",
    "delCcapPCT<-round((delCcap/delTcap)*100,1)"
   ]
  },
  {
   "cell_type": "code",
   "execution_count": 5,
   "metadata": {
    "collapsed": false
   },
   "outputs": [
    {
     "ename": "ERROR",
     "evalue": "Error in do.call(method, list(parsed_selector)): could not find function \"xpath_class\"\n",
     "output_type": "error",
     "traceback": [
      "Error in do.call(method, list(parsed_selector)): could not find function \"xpath_class\"\nTraceback:\n",
      "1. inpage %>% html_nodes(selector_names[i]) %>% html_text()   # at line 10 of file <text>",
      "2. withVisible(eval(quote(`_fseq`(`_lhs`)), env, env))",
      "3. eval(quote(`_fseq`(`_lhs`)), env, env)",
      "4. eval(expr, envir, enclos)",
      "5. `_fseq`(`_lhs`)",
      "6. freduce(value, `_function_list`)",
      "7. function_list[[i]](value)",
      "8. html_nodes(., selector_names[i])",
      "9. html_nodes.default(., selector_names[i])",
      "10. xml2::xml_find_all(x, make_selector(css, xpath))",
      "11. xml_find_all.xml_node(x, make_selector(css, xpath))",
      "12. xpath_search(x$node, x$doc, xpath = xpath, nsMap = ns, num_results = Inf)",
      "13. make_selector(css, xpath)",
      "14. selectr::css_to_xpath(css, prefix = \".//\")",
      "15. tran$css_to_xpath(sel, pref)",
      "16. sapply(selectors, function(selector) {\n  .     selector_to_xpath(selector, prefix)\n  . })",
      "17. lapply(X = X, FUN = FUN, ...)",
      "18. FUN(X[[i]], ...)",
      "19. selector_to_xpath(selector, prefix)",
      "20. .self$xpath(tree)",
      "21. do.call(method, list(parsed_selector))"
     ]
    }
   ],
   "source": [
    "########################\n",
    "# grab NYC reservoir releases webpage\n",
    "\n",
    "inpath<-\"http://www.nyc.gov/html/dep/html/drinking_water/release_channel_levels.shtml\"\n",
    "selector_names<-c(\".card-head\",\".card-mgd\",\".card-ntu\",\"h3\")\n",
    "reltab<-NULL\n",
    "# parse doc for NYC \"card data\" and convert to text\n",
    "inpage<-inpath %>% read_html()\n",
    "for (i in 1:length(selector_names)){\n",
    "    res<-inpage %>% html_nodes(selector_names[i]) %>% html_text()\n",
    "    if (i==4) res<-rep(res[1],dim(reltab)[2])\n",
    "    reltab<-rbind(reltab,res)\n",
    "}\n",
    "# format table\n",
    "reltab<-t(reltab)\n",
    "reltab<-data.frame(reltab[,c(4,1,2,3)])\n",
    "colnames(reltab)<-c(\"Date\",\"Name\",\"Release(MGD)\",\"Turbidity(ntu)\")\n",
    "reltab[,3]<-sapply(reltab[,3],function(x) gsub(\"mgd\",\"\",x))\n",
    "reltab[,4]<-sapply(reltab[,4],function(x) gsub(\"Turbidity \",\"\",x))\n",
    "reltab[,4]<-sapply(reltab[,4],function(x) gsub(\"ntu\",\"\",x))\n",
    "\n",
    "reltab[,3]<-as.numeric(as.character(reltab[,3]))\n",
    "reltab[,4]<-as.numeric(as.character(reltab[,4]))\n",
    "\n",
    "lvltab\n",
    "reltab"
   ]
  }
 ],
 "metadata": {
  "anaconda-cloud": {},
  "kernelspec": {
   "display_name": "R",
   "language": "R",
   "name": "ir"
  },
  "language_info": {
   "codemirror_mode": "r",
   "file_extension": ".r",
   "mimetype": "text/x-r-source",
   "name": "R",
   "pygments_lexer": "r",
   "version": "3.3.2"
  }
 },
 "nbformat": 4,
 "nbformat_minor": 1
}
