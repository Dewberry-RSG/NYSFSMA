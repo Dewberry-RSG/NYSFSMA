{
 "cells": [
  {
   "cell_type": "markdown",
   "metadata": {},
   "source": [
    "# Rapid Evaluation of Levees –Tools and Techniques\n",
    "##### NYSFSMA,  6-14-2017"
   ]
  },
  {
   "cell_type": "markdown",
   "metadata": {},
   "source": [
    "## Agenda\n",
    "\n",
    "#### A Few Words about Computing\n",
    "    Literacy is good\n",
    "<img class=\"one\" src=\"https://raw.githubusercontent.com/Dewberry-RSG/NYSFSMA-2017/master/images/detention2.png\" width=\"600\" height=\"600\"><br>\n",
    "\n",
    "#### The Open Source Movement\n",
    "    Free is better than Expensive\n",
    "<img class=\"two\" src=\"https://raw.githubusercontent.com/Dewberry-RSG/NYSFSMA-2017/master/images/jupyter.png\" width=\"200\" height=\"200\"><br>\n",
    "\n",
    "\n",
    "#### Rapid Analysis Potential\n",
    "    Taking Models off the shelf\n",
    "<img class=\"two\" src=\"https://raw.githubusercontent.com/Dewberry-RSG/NYSFSMA-2017/master/images/forecast.png\" width=\"500\" height=\"500\"><br>"
   ]
  },
  {
   "cell_type": "markdown",
   "metadata": {},
   "source": [
    "# Part 1: Computing \n",
    "### We are all computer scientists:\n",
    "\n",
    "<img class=\"one\" src=\"https://raw.githubusercontent.com/Dewberry-RSG/NYSFSMA-2017/master/images/excel.png\" width=\"300\" height=\"300\"><br>\n",
    "\n",
    "### It's time to free ourselves the GUI:"
   ]
  },
  {
   "cell_type": "code",
   "execution_count": null,
   "metadata": {
    "collapsed": true
   },
   "outputs": [],
   "source": [
    "for AllMyData:    \n",
    "    if b < c:\n",
    "        d = c\n",
    "    else:\n",
    "        d = b"
   ]
  },
  {
   "cell_type": "markdown",
   "metadata": {},
   "source": [
    "### Compelling Reasons to make the jump\n",
    "\n",
    "    1. Data sets are much, much bigger\n",
    "        a. 2D Modelling\n",
    "            i.   Grids and Meshes\n",
    "            ii.  Nodal Attributes, Global outputs \n",
    "            iii. Global Outputs\n",
    "            iv.  Time Series, Spatial files\n",
    "            \n",
    "<img class=\"one\" src=\"https://raw.githubusercontent.com/Dewberry-RSG/NYSFSMA-2017/master/images/sms_rasgrid.png\" width=\"700\" height=\"700\"><br>\n",
    "            \n",
    "        b. Geospatial Data\n",
    "            i.  Scale - State, Region, Nation  \n",
    "            ii. Structures, Meterology\n",
    "            "
   ]
  },
  {
   "cell_type": "markdown",
   "metadata": {},
   "source": [
    "    2. Data is not homogenous \n",
    "        a. Gridded Datasets\n",
    "            netcdf, xmrg, grib\n",
    "            \n",
    "<img class=\"one\" src=\"https://raw.githubusercontent.com/Dewberry-RSG/NYSFSMA-2017/master/images/qpf.jpg\" width=\"600\" height=\"600\"><br>\n",
    "            \n",
    "        b. Scientific Datasets\n",
    "            hdf5, PostgreSQL\n",
    "<img class=\"one\" src=\"https://raw.githubusercontent.com/Dewberry-RSG/NYSFSMA-2017/master/images/postgresql.png\" width=\"400\" height=\"400\"><br>\n",
    "    "
   ]
  },
  {
   "cell_type": "markdown",
   "metadata": {},
   "source": [
    "    3. Data access is available through API's\n",
    "        NOAA, USGS, google, twitter...\n",
    "        \n",
    "<img class=\"one\" src=\"https://raw.githubusercontent.com/Dewberry-RSG/NYSFSMA-2017/master/images/usgs_api.png\" width=\"600\" height=\"600\"><br>\n",
    "\n",
    "    4. Scripting is easier than ever:\n",
    "        Python, R, and others are very advanced & widely used\n",
    "        Interfaces are much better now"
   ]
  },
  {
   "cell_type": "markdown",
   "metadata": {},
   "source": [
    "# Part 2: The Open Source Revolution \n",
    "\n",
    "<img class=\"one\" src=\"https://raw.githubusercontent.com/Dewberry-RSG/NYSFSMA-2017/master/images/github.png\" width=\"500\" height=\"500\"><br>\n",
    "\n",
    "#### [USGS](https://github.com/usgs)\n",
    "#### [NOAA](https://github.com/NOAA-ORR-ERD)\n",
    "#### [ERDC](https://github.com/erdc-cm)\n",
    "#### [NYSFMSA](https://github.com/Dewberry-RSG/NYSFSMA-2017)"
   ]
  },
  {
   "cell_type": "markdown",
   "metadata": {
    "collapsed": true
   },
   "source": [
    "### HEC-Center: Made the leap\n",
    "\n",
    "No longer supporting ESRI arc-hydro tools\n",
    "<img class=\"one\" src=\"https://raw.githubusercontent.com/Dewberry-RSG/NYSFSMA-2017/master/images/gdal.png\" width=\"300\" height=\"300\"><br>\n"
   ]
  },
  {
   "cell_type": "markdown",
   "metadata": {},
   "source": [
    "# Part 3: Re-analysis and modeling of levee systems\n",
    "\n",
    "### Updating exisiting models: Hydrology\n",
    "\n",
    "        1. Data Retrieval\n",
    "        2. Data Analysis\n",
    "        3. Data Manipulation\n",
    "        4. Data Export\n",
    "        \n",
    "### Keeping models off the shelf        \n",
    "        \n",
    "        1. Forecasting potential\n",
    "        2. Post event analysis\n",
    "        "
   ]
  },
  {
   "cell_type": "markdown",
   "metadata": {},
   "source": [
    "### Jupyter Notebooks\n",
    "\n",
    "[Levee Hydrology: Python](python/GageExplorer_Vestal.ipynb)\n",
    "\n",
    "[Characteristic Levee Crest: Julia](julia/FreeboardContinuityChecker.ipynb)\n",
    "\n",
    "[USGS Data Retrieval: R](r/USGS_DataGrabber.ipynb)\n",
    "\n",
    "[Lake Champlain Level Checker: Python](python/LakeChamplain_Daily.ipynb)\n",
    "\n",
    "[Lake Champlain Seiching: Python](python/LakeChamplain_2009_seiche.ipynb)\n"
   ]
  }
 ],
 "metadata": {
  "anaconda-cloud": {},
  "kernelspec": {
   "display_name": "Python [default]",
   "language": "python",
   "name": "python3"
  },
  "language_info": {
   "codemirror_mode": {
    "name": "ipython",
    "version": 3
   },
   "file_extension": ".py",
   "mimetype": "text/x-python",
   "name": "python",
   "nbconvert_exporter": "python",
   "pygments_lexer": "ipython3",
   "version": "3.5.2"
  }
 },
 "nbformat": 4,
 "nbformat_minor": 1
}
